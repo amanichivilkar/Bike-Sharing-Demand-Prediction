{
  "cells": [
    {
      "cell_type": "markdown",
      "metadata": {
        "id": "view-in-github",
        "colab_type": "text"
      },
      "source": [
        "<a href=\"https://colab.research.google.com/github/amanichivilkar/Bike-Sharing-Demand-Prediction/blob/main/Amani_Chivilkar_Bike_Sharing_Demand_Prediction_Capstone_Project.ipynb\" target=\"_parent\"><img src=\"https://colab.research.google.com/assets/colab-badge.svg\" alt=\"Open In Colab\"/></a>"
      ]
    },
    {
      "cell_type": "markdown",
      "metadata": {
        "id": "Y06xIdG26kRF"
      },
      "source": [
        "# <b> Project Title : Seoul Bike Sharing Demand Prediction </b>\n",
        "----\n",
        "### Currently Rental bikes are introduced in many urban cities for the enhancement of mobility comfort. It is important to make the rental bike available and accessible to the public at the right time as it lessens the waiting time. Eventually, providing the city with a stable supply of rental bikes becomes a major concern. The crucial part is the prediction of bike count required at each hour for the stable supply of rental bikes.\n"
      ]
    },
    {
      "cell_type": "markdown",
      "metadata": {
        "id": "T2pfx1xTqwlZ"
      },
      "source": [
        "### **Import of Python Libraries and Defining Function**"
      ]
    },
    {
      "cell_type": "code",
      "execution_count": null,
      "metadata": {
        "id": "krCjuYQdtGBs"
      },
      "outputs": [],
      "source": [
        "import numpy as np\n",
        "import pandas as pd\n",
        "import matplotlib.pyplot as plt\n",
        "import matplotlib.cm as cm\n",
        "import seaborn as sns \n",
        "%matplotlib inline\n",
        "sns.set_theme(style=\"whitegrid\")\n",
        "import warnings\n",
        "warnings.filterwarnings('ignore')\n",
        "from datetime import datetime\n",
        "from datetime import timedelta\n",
        "from dateutil.relativedelta import relativedelta\n",
        "\n",
        "#Scoring\n",
        "from sklearn.metrics import mean_squared_error\n",
        "from sklearn.metrics import r2_score\n",
        "from sklearn.model_selection import cross_val_score\n",
        "from sklearn.model_selection import GridSearchCV\n",
        "\n",
        "# ML\n",
        "from sklearn.svm import SVR\n",
        "from sklearn.ensemble import VotingRegressor\n",
        "from sklearn.ensemble import BaggingRegressor\n",
        "from sklearn.neighbors import KNeighborsRegressor\n",
        "from sklearn.ensemble import StackingRegressor  \n",
        "from sklearn.ensemble import GradientBoostingRegressor\n",
        "from sklearn.ensemble import RandomForestRegressor\n",
        "from sklearn.tree import DecisionTreeRegressor\n",
        "from sklearn.linear_model import LinearRegression\n",
        "from sklearn.preprocessing import PolynomialFeatures\n",
        "from sklearn.linear_model import Lasso\n",
        "from sklearn.linear_model import Ridge\n",
        "from sklearn.linear_model import ElasticNet\n"
      ]
    },
    {
      "cell_type": "code",
      "execution_count": null,
      "metadata": {
        "id": "KETHG2pstcug"
      },
      "outputs": [],
      "source": [
        "df=pd.read_csv(\"/content/drive/MyDrive/data/SeoulBikeData.csv\", encoding =\"ISO-8859-1\")"
      ]
    },
    {
      "cell_type": "code",
      "execution_count": null,
      "metadata": {
        "colab": {
          "base_uri": "https://localhost:8080/"
        },
        "id": "vZM432DTRYFk",
        "outputId": "08447b85-6ad0-42ee-85c3-1011dec961b7"
      },
      "outputs": [
        {
          "output_type": "stream",
          "name": "stdout",
          "text": [
            "Requirement already satisfied: mlxtend in /usr/local/lib/python3.7/dist-packages (0.14.0)\n",
            "Collecting mlxtend\n",
            "  Downloading mlxtend-0.19.0-py2.py3-none-any.whl (1.3 MB)\n",
            "\u001b[K     |████████████████████████████████| 1.3 MB 5.3 MB/s \n",
            "\u001b[?25hRequirement already satisfied: joblib>=0.13.2 in /usr/local/lib/python3.7/dist-packages (from mlxtend) (1.1.0)\n",
            "Requirement already satisfied: matplotlib>=3.0.0 in /usr/local/lib/python3.7/dist-packages (from mlxtend) (3.2.2)\n",
            "Requirement already satisfied: numpy>=1.16.2 in /usr/local/lib/python3.7/dist-packages (from mlxtend) (1.19.5)\n",
            "Requirement already satisfied: scipy>=1.2.1 in /usr/local/lib/python3.7/dist-packages (from mlxtend) (1.4.1)\n",
            "Requirement already satisfied: scikit-learn>=0.20.3 in /usr/local/lib/python3.7/dist-packages (from mlxtend) (1.0.2)\n",
            "Requirement already satisfied: pandas>=0.24.2 in /usr/local/lib/python3.7/dist-packages (from mlxtend) (1.1.5)\n",
            "Requirement already satisfied: setuptools in /usr/local/lib/python3.7/dist-packages (from mlxtend) (57.4.0)\n",
            "Requirement already satisfied: pyparsing!=2.0.4,!=2.1.2,!=2.1.6,>=2.0.1 in /usr/local/lib/python3.7/dist-packages (from matplotlib>=3.0.0->mlxtend) (3.0.6)\n",
            "Requirement already satisfied: cycler>=0.10 in /usr/local/lib/python3.7/dist-packages (from matplotlib>=3.0.0->mlxtend) (0.11.0)\n",
            "Requirement already satisfied: python-dateutil>=2.1 in /usr/local/lib/python3.7/dist-packages (from matplotlib>=3.0.0->mlxtend) (2.8.2)\n",
            "Requirement already satisfied: kiwisolver>=1.0.1 in /usr/local/lib/python3.7/dist-packages (from matplotlib>=3.0.0->mlxtend) (1.3.2)\n",
            "Requirement already satisfied: pytz>=2017.2 in /usr/local/lib/python3.7/dist-packages (from pandas>=0.24.2->mlxtend) (2018.9)\n",
            "Requirement already satisfied: six>=1.5 in /usr/local/lib/python3.7/dist-packages (from python-dateutil>=2.1->matplotlib>=3.0.0->mlxtend) (1.15.0)\n",
            "Requirement already satisfied: threadpoolctl>=2.0.0 in /usr/local/lib/python3.7/dist-packages (from scikit-learn>=0.20.3->mlxtend) (3.0.0)\n",
            "Installing collected packages: mlxtend\n",
            "  Attempting uninstall: mlxtend\n",
            "    Found existing installation: mlxtend 0.14.0\n",
            "    Uninstalling mlxtend-0.14.0:\n",
            "      Successfully uninstalled mlxtend-0.14.0\n",
            "Successfully installed mlxtend-0.19.0\n"
          ]
        }
      ],
      "source": [
        "%pip install mlxtend --upgrade"
      ]
    },
    {
      "cell_type": "code",
      "execution_count": null,
      "metadata": {
        "colab": {
          "base_uri": "https://localhost:8080/"
        },
        "id": "40BhvR0-8HcV",
        "outputId": "67986cc5-5f38-4051-b24d-ac351e5a625d"
      },
      "outputs": [
        {
          "output_type": "stream",
          "name": "stdout",
          "text": [
            "Collecting lime\n",
            "  Downloading lime-0.2.0.1.tar.gz (275 kB)\n",
            "\u001b[?25l\r\u001b[K     |█▏                              | 10 kB 26.9 MB/s eta 0:00:01\r\u001b[K     |██▍                             | 20 kB 13.5 MB/s eta 0:00:01\r\u001b[K     |███▋                            | 30 kB 10.2 MB/s eta 0:00:01\r\u001b[K     |████▊                           | 40 kB 9.1 MB/s eta 0:00:01\r\u001b[K     |██████                          | 51 kB 5.2 MB/s eta 0:00:01\r\u001b[K     |███████▏                        | 61 kB 5.7 MB/s eta 0:00:01\r\u001b[K     |████████▎                       | 71 kB 5.6 MB/s eta 0:00:01\r\u001b[K     |█████████▌                      | 81 kB 6.3 MB/s eta 0:00:01\r\u001b[K     |██████████▊                     | 92 kB 4.8 MB/s eta 0:00:01\r\u001b[K     |███████████▉                    | 102 kB 5.2 MB/s eta 0:00:01\r\u001b[K     |█████████████                   | 112 kB 5.2 MB/s eta 0:00:01\r\u001b[K     |██████████████▎                 | 122 kB 5.2 MB/s eta 0:00:01\r\u001b[K     |███████████████▌                | 133 kB 5.2 MB/s eta 0:00:01\r\u001b[K     |████████████████▋               | 143 kB 5.2 MB/s eta 0:00:01\r\u001b[K     |█████████████████▉              | 153 kB 5.2 MB/s eta 0:00:01\r\u001b[K     |███████████████████             | 163 kB 5.2 MB/s eta 0:00:01\r\u001b[K     |████████████████████▏           | 174 kB 5.2 MB/s eta 0:00:01\r\u001b[K     |█████████████████████▍          | 184 kB 5.2 MB/s eta 0:00:01\r\u001b[K     |██████████████████████▋         | 194 kB 5.2 MB/s eta 0:00:01\r\u001b[K     |███████████████████████▊        | 204 kB 5.2 MB/s eta 0:00:01\r\u001b[K     |█████████████████████████       | 215 kB 5.2 MB/s eta 0:00:01\r\u001b[K     |██████████████████████████▏     | 225 kB 5.2 MB/s eta 0:00:01\r\u001b[K     |███████████████████████████▍    | 235 kB 5.2 MB/s eta 0:00:01\r\u001b[K     |████████████████████████████▌   | 245 kB 5.2 MB/s eta 0:00:01\r\u001b[K     |█████████████████████████████▊  | 256 kB 5.2 MB/s eta 0:00:01\r\u001b[K     |███████████████████████████████ | 266 kB 5.2 MB/s eta 0:00:01\r\u001b[K     |████████████████████████████████| 275 kB 5.2 MB/s \n",
            "\u001b[?25hRequirement already satisfied: matplotlib in /usr/local/lib/python3.7/dist-packages (from lime) (3.2.2)\n",
            "Requirement already satisfied: numpy in /usr/local/lib/python3.7/dist-packages (from lime) (1.19.5)\n",
            "Requirement already satisfied: scipy in /usr/local/lib/python3.7/dist-packages (from lime) (1.4.1)\n",
            "Requirement already satisfied: tqdm in /usr/local/lib/python3.7/dist-packages (from lime) (4.62.3)\n",
            "Requirement already satisfied: scikit-learn>=0.18 in /usr/local/lib/python3.7/dist-packages (from lime) (1.0.2)\n",
            "Requirement already satisfied: scikit-image>=0.12 in /usr/local/lib/python3.7/dist-packages (from lime) (0.18.3)\n",
            "Requirement already satisfied: networkx>=2.0 in /usr/local/lib/python3.7/dist-packages (from scikit-image>=0.12->lime) (2.6.3)\n",
            "Requirement already satisfied: tifffile>=2019.7.26 in /usr/local/lib/python3.7/dist-packages (from scikit-image>=0.12->lime) (2021.11.2)\n",
            "Requirement already satisfied: PyWavelets>=1.1.1 in /usr/local/lib/python3.7/dist-packages (from scikit-image>=0.12->lime) (1.2.0)\n",
            "Requirement already satisfied: imageio>=2.3.0 in /usr/local/lib/python3.7/dist-packages (from scikit-image>=0.12->lime) (2.4.1)\n",
            "Requirement already satisfied: pillow!=7.1.0,!=7.1.1,>=4.3.0 in /usr/local/lib/python3.7/dist-packages (from scikit-image>=0.12->lime) (7.1.2)\n",
            "Requirement already satisfied: python-dateutil>=2.1 in /usr/local/lib/python3.7/dist-packages (from matplotlib->lime) (2.8.2)\n",
            "Requirement already satisfied: kiwisolver>=1.0.1 in /usr/local/lib/python3.7/dist-packages (from matplotlib->lime) (1.3.2)\n",
            "Requirement already satisfied: pyparsing!=2.0.4,!=2.1.2,!=2.1.6,>=2.0.1 in /usr/local/lib/python3.7/dist-packages (from matplotlib->lime) (3.0.6)\n",
            "Requirement already satisfied: cycler>=0.10 in /usr/local/lib/python3.7/dist-packages (from matplotlib->lime) (0.11.0)\n",
            "Requirement already satisfied: six>=1.5 in /usr/local/lib/python3.7/dist-packages (from python-dateutil>=2.1->matplotlib->lime) (1.15.0)\n",
            "Requirement already satisfied: threadpoolctl>=2.0.0 in /usr/local/lib/python3.7/dist-packages (from scikit-learn>=0.18->lime) (3.0.0)\n",
            "Requirement already satisfied: joblib>=0.11 in /usr/local/lib/python3.7/dist-packages (from scikit-learn>=0.18->lime) (1.1.0)\n",
            "Building wheels for collected packages: lime\n",
            "  Building wheel for lime (setup.py) ... \u001b[?25l\u001b[?25hdone\n",
            "  Created wheel for lime: filename=lime-0.2.0.1-py3-none-any.whl size=283857 sha256=eb8adabe9a5c60539b3dbce241b16a8ec6af9da290776feeb1a0dc3d4eeb885e\n",
            "  Stored in directory: /root/.cache/pip/wheels/ca/cb/e5/ac701e12d365a08917bf4c6171c0961bc880a8181359c66aa7\n",
            "Successfully built lime\n",
            "Installing collected packages: lime\n",
            "Successfully installed lime-0.2.0.1\n"
          ]
        }
      ],
      "source": [
        "!pip3 install lime"
      ]
    },
    {
      "cell_type": "code",
      "execution_count": null,
      "metadata": {
        "id": "2JNoSXNB8TVp"
      },
      "outputs": [],
      "source": [
        "import lime\n",
        "import lime.lime_tabular"
      ]
    },
    {
      "cell_type": "code",
      "execution_count": null,
      "metadata": {
        "colab": {
          "base_uri": "https://localhost:8080/"
        },
        "id": "SaH2z9EcV5Kz",
        "outputId": "6a89ec53-266d-478d-a1b3-7aa59de1c05a"
      },
      "outputs": [
        {
          "output_type": "stream",
          "name": "stdout",
          "text": [
            "Collecting shap\n",
            "  Downloading shap-0.40.0-cp37-cp37m-manylinux2010_x86_64.whl (564 kB)\n",
            "\u001b[?25l\r\u001b[K     |▋                               | 10 kB 24.5 MB/s eta 0:00:01\r\u001b[K     |█▏                              | 20 kB 14.5 MB/s eta 0:00:01\r\u001b[K     |█▊                              | 30 kB 10.2 MB/s eta 0:00:01\r\u001b[K     |██▎                             | 40 kB 9.0 MB/s eta 0:00:01\r\u001b[K     |███                             | 51 kB 5.6 MB/s eta 0:00:01\r\u001b[K     |███▌                            | 61 kB 5.6 MB/s eta 0:00:01\r\u001b[K     |████                            | 71 kB 5.7 MB/s eta 0:00:01\r\u001b[K     |████▋                           | 81 kB 6.4 MB/s eta 0:00:01\r\u001b[K     |█████▏                          | 92 kB 6.3 MB/s eta 0:00:01\r\u001b[K     |█████▉                          | 102 kB 5.3 MB/s eta 0:00:01\r\u001b[K     |██████▍                         | 112 kB 5.3 MB/s eta 0:00:01\r\u001b[K     |███████                         | 122 kB 5.3 MB/s eta 0:00:01\r\u001b[K     |███████▌                        | 133 kB 5.3 MB/s eta 0:00:01\r\u001b[K     |████████▏                       | 143 kB 5.3 MB/s eta 0:00:01\r\u001b[K     |████████▊                       | 153 kB 5.3 MB/s eta 0:00:01\r\u001b[K     |█████████▎                      | 163 kB 5.3 MB/s eta 0:00:01\r\u001b[K     |█████████▉                      | 174 kB 5.3 MB/s eta 0:00:01\r\u001b[K     |██████████▍                     | 184 kB 5.3 MB/s eta 0:00:01\r\u001b[K     |███████████                     | 194 kB 5.3 MB/s eta 0:00:01\r\u001b[K     |███████████▋                    | 204 kB 5.3 MB/s eta 0:00:01\r\u001b[K     |████████████▏                   | 215 kB 5.3 MB/s eta 0:00:01\r\u001b[K     |████████████▊                   | 225 kB 5.3 MB/s eta 0:00:01\r\u001b[K     |█████████████▍                  | 235 kB 5.3 MB/s eta 0:00:01\r\u001b[K     |██████████████                  | 245 kB 5.3 MB/s eta 0:00:01\r\u001b[K     |██████████████▌                 | 256 kB 5.3 MB/s eta 0:00:01\r\u001b[K     |███████████████                 | 266 kB 5.3 MB/s eta 0:00:01\r\u001b[K     |███████████████▋                | 276 kB 5.3 MB/s eta 0:00:01\r\u001b[K     |████████████████▎               | 286 kB 5.3 MB/s eta 0:00:01\r\u001b[K     |████████████████▉               | 296 kB 5.3 MB/s eta 0:00:01\r\u001b[K     |█████████████████▍              | 307 kB 5.3 MB/s eta 0:00:01\r\u001b[K     |██████████████████              | 317 kB 5.3 MB/s eta 0:00:01\r\u001b[K     |██████████████████▋             | 327 kB 5.3 MB/s eta 0:00:01\r\u001b[K     |███████████████████▏            | 337 kB 5.3 MB/s eta 0:00:01\r\u001b[K     |███████████████████▊            | 348 kB 5.3 MB/s eta 0:00:01\r\u001b[K     |████████████████████▎           | 358 kB 5.3 MB/s eta 0:00:01\r\u001b[K     |████████████████████▉           | 368 kB 5.3 MB/s eta 0:00:01\r\u001b[K     |█████████████████████▌          | 378 kB 5.3 MB/s eta 0:00:01\r\u001b[K     |██████████████████████          | 389 kB 5.3 MB/s eta 0:00:01\r\u001b[K     |██████████████████████▋         | 399 kB 5.3 MB/s eta 0:00:01\r\u001b[K     |███████████████████████▏        | 409 kB 5.3 MB/s eta 0:00:01\r\u001b[K     |███████████████████████▉        | 419 kB 5.3 MB/s eta 0:00:01\r\u001b[K     |████████████████████████▍       | 430 kB 5.3 MB/s eta 0:00:01\r\u001b[K     |█████████████████████████       | 440 kB 5.3 MB/s eta 0:00:01\r\u001b[K     |█████████████████████████▌      | 450 kB 5.3 MB/s eta 0:00:01\r\u001b[K     |██████████████████████████      | 460 kB 5.3 MB/s eta 0:00:01\r\u001b[K     |██████████████████████████▊     | 471 kB 5.3 MB/s eta 0:00:01\r\u001b[K     |███████████████████████████▎    | 481 kB 5.3 MB/s eta 0:00:01\r\u001b[K     |███████████████████████████▉    | 491 kB 5.3 MB/s eta 0:00:01\r\u001b[K     |████████████████████████████▍   | 501 kB 5.3 MB/s eta 0:00:01\r\u001b[K     |█████████████████████████████   | 512 kB 5.3 MB/s eta 0:00:01\r\u001b[K     |█████████████████████████████▋  | 522 kB 5.3 MB/s eta 0:00:01\r\u001b[K     |██████████████████████████████▏ | 532 kB 5.3 MB/s eta 0:00:01\r\u001b[K     |██████████████████████████████▊ | 542 kB 5.3 MB/s eta 0:00:01\r\u001b[K     |███████████████████████████████▎| 552 kB 5.3 MB/s eta 0:00:01\r\u001b[K     |████████████████████████████████| 563 kB 5.3 MB/s eta 0:00:01\r\u001b[K     |████████████████████████████████| 564 kB 5.3 MB/s \n",
            "\u001b[?25hRequirement already satisfied: numpy in /usr/local/lib/python3.7/dist-packages (from shap) (1.19.5)\n",
            "Requirement already satisfied: scikit-learn in /usr/local/lib/python3.7/dist-packages (from shap) (1.0.2)\n",
            "Collecting slicer==0.0.7\n",
            "  Downloading slicer-0.0.7-py3-none-any.whl (14 kB)\n",
            "Requirement already satisfied: cloudpickle in /usr/local/lib/python3.7/dist-packages (from shap) (1.3.0)\n",
            "Requirement already satisfied: pandas in /usr/local/lib/python3.7/dist-packages (from shap) (1.1.5)\n",
            "Requirement already satisfied: packaging>20.9 in /usr/local/lib/python3.7/dist-packages (from shap) (21.3)\n",
            "Requirement already satisfied: scipy in /usr/local/lib/python3.7/dist-packages (from shap) (1.4.1)\n",
            "Requirement already satisfied: numba in /usr/local/lib/python3.7/dist-packages (from shap) (0.51.2)\n",
            "Requirement already satisfied: tqdm>4.25.0 in /usr/local/lib/python3.7/dist-packages (from shap) (4.62.3)\n",
            "Requirement already satisfied: pyparsing!=3.0.5,>=2.0.2 in /usr/local/lib/python3.7/dist-packages (from packaging>20.9->shap) (3.0.6)\n",
            "Requirement already satisfied: llvmlite<0.35,>=0.34.0.dev0 in /usr/local/lib/python3.7/dist-packages (from numba->shap) (0.34.0)\n",
            "Requirement already satisfied: setuptools in /usr/local/lib/python3.7/dist-packages (from numba->shap) (57.4.0)\n",
            "Requirement already satisfied: python-dateutil>=2.7.3 in /usr/local/lib/python3.7/dist-packages (from pandas->shap) (2.8.2)\n",
            "Requirement already satisfied: pytz>=2017.2 in /usr/local/lib/python3.7/dist-packages (from pandas->shap) (2018.9)\n",
            "Requirement already satisfied: six>=1.5 in /usr/local/lib/python3.7/dist-packages (from python-dateutil>=2.7.3->pandas->shap) (1.15.0)\n",
            "Requirement already satisfied: threadpoolctl>=2.0.0 in /usr/local/lib/python3.7/dist-packages (from scikit-learn->shap) (3.0.0)\n",
            "Requirement already satisfied: joblib>=0.11 in /usr/local/lib/python3.7/dist-packages (from scikit-learn->shap) (1.1.0)\n",
            "Installing collected packages: slicer, shap\n",
            "Successfully installed shap-0.40.0 slicer-0.0.7\n"
          ]
        }
      ],
      "source": [
        "pip install shap"
      ]
    },
    {
      "cell_type": "code",
      "execution_count": null,
      "metadata": {
        "id": "gURcNCc7V5K0"
      },
      "outputs": [],
      "source": [
        "import shap"
      ]
    },
    {
      "cell_type": "code",
      "execution_count": null,
      "metadata": {
        "id": "O5nS_d1dCUkV"
      },
      "outputs": [],
      "source": [
        "# This gives a dataframe with lable Encoder Applied on the categorical featuure\n",
        "from sklearn.preprocessing import LabelEncoder\n",
        "class MultiColumnLabelEncoder:\n",
        "    def __init__(self,columns = None):\n",
        "        self.columns = columns # array of column names to encode\n",
        "\n",
        "    def fit(self,X,y=None):\n",
        "        return self # not relevant here\n",
        "\n",
        "    def transform(self,X):\n",
        "        '''\n",
        "        Transforms columns of X specified in self.columns using\n",
        "        LabelEncoder(). If no columns specified, transforms all\n",
        "        columns in X.\n",
        "        '''\n",
        "        output = X.copy()\n",
        "        if self.columns is not None:\n",
        "            for col in self.columns:\n",
        "                output[col] = LabelEncoder().fit_transform(output[col])\n",
        "        else:\n",
        "            for colname,col in output.iteritems():\n",
        "                output[colname] = LabelEncoder().fit_transform(col)\n",
        "        return output\n",
        "\n",
        "    def fit_transform(self,X,y=None):\n",
        "        return self.fit(X,y).transform(X)"
      ]
    },
    {
      "cell_type": "code",
      "execution_count": null,
      "metadata": {
        "id": "jy99CRzM7ey4"
      },
      "outputs": [],
      "source": [
        "# PLOT weight of the features for decision tree and random forest\n",
        "def weight(ml):  \n",
        "     ml.fit(x_train,y_train)\n",
        "     y_pred = ml.predict(x_test)\n",
        "\n",
        "     # plot\n",
        "     df5=pd.DataFrame({\"feature\":independent,\"weight\":ml.feature_importances_}).sort_values('weight',ascending=False).head(10)\n",
        "\n",
        "     plt.figure(figsize=(10,5))\n",
        "    \n",
        "     sns.barplot(x=df5.weight,y=df5.feature).set(title=f'Top 10 Important features for {ml}')\n",
        "     "
      ]
    },
    {
      "cell_type": "code",
      "execution_count": null,
      "metadata": {
        "id": "X2reTkyHVly0"
      },
      "outputs": [],
      "source": [
        "# Get the LIME explanation by giving ml modle and sample number to the funtion \"explanation\"\n",
        "\n",
        "def explanation(ml,obs_number):\n",
        "    ml.fit(x_train,y_train)\n",
        "    y_pred = ml.predict(x_test)\n",
        "\n",
        "    explanation = explainer.explain_instance(x_test.values[obs_number], ml.predict, num_features=14)\n",
        "    print(f'predicted_value={y_pred[obs_number]}')\n",
        "    print(f'Actual_value={y_test.values[obs_number]}')\n",
        "    explanation.show_in_notebook(show_all=False)"
      ]
    }
  ],
  "metadata": {
    "colab": {
      "collapsed_sections": [
        "T2pfx1xTqwlZ",
        "2WXJ8i51PNHY",
        "r6DfUHRXDc9F",
        "nNooGAPJOJh1",
        "EeRga5aFsjkA",
        "oI7F75HNZ-bi",
        "LZIocJidlsQp",
        "HA88wdYz3KIT",
        "pRdngu5c8fPb",
        "VYspWFH2Ji_n",
        "ul0u6IQVuJgf",
        "pEh3iDRG2WzW",
        "Ci7O8xTVxWke",
        "RqjCL20yUC07",
        "3EUWBQFu7UIl",
        "uVS7oflUDJ6R",
        "K_vLJdjmqGZT",
        "k7KnSQpTjpTl"
      ],
      "name": "Amani Chivilkar-Bike Sharing Demand Prediction - Capstone Project.ipynb",
      "provenance": [],
      "mount_file_id": "1Ljg9FSkxENO7nO_NK8Xm7NL0N1dV_w0W",
      "authorship_tag": "ABX9TyMMf8YVrrxUdSPH5evOnZrX",
      "include_colab_link": true
    },
    "kernelspec": {
      "display_name": "Python 3",
      "name": "python3"
    },
    "language_info": {
      "name": "python"
    }
  },
  "nbformat": 4,
  "nbformat_minor": 0
}